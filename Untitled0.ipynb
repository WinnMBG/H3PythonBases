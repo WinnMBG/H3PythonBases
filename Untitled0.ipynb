{
  "nbformat": 4,
  "nbformat_minor": 0,
  "metadata": {
    "colab": {
      "provenance": [],
      "collapsed_sections": [],
      "authorship_tag": "ABX9TyNbUtKxjO7XzwWlmYrnF9Is",
      "include_colab_link": true
    },
    "kernelspec": {
      "name": "python3",
      "display_name": "Python 3"
    },
    "language_info": {
      "name": "python"
    }
  },
  "cells": [
    {
      "cell_type": "markdown",
      "metadata": {
        "id": "view-in-github",
        "colab_type": "text"
      },
      "source": [
        "<a href=\"https://colab.research.google.com/github/WinnMBG/H3PythonBases/blob/main/Untitled0.ipynb\" target=\"_parent\"><img src=\"https://colab.research.google.com/assets/colab-badge.svg\" alt=\"Open In Colab\"/></a>"
      ]
    },
    {
      "cell_type": "markdown",
      "source": [
        "Exrecices d'algorithmie avec Python."
      ],
      "metadata": {
        "id": "Gm7b_GTT4DX4"
      }
    },
    {
      "cell_type": "markdown",
      "source": [
        "1) La compléxité algorithmique sert à mesurer la performance (en espace et en temps) d'un algorithme pour une entrée n donnée."
      ],
      "metadata": {
        "id": "84kEkJT6BkQO"
      }
    },
    {
      "cell_type": "markdown",
      "source": [
        "2.1) Condition et produit "
      ],
      "metadata": {
        "id": "Vs6E_3ZHB8CR"
      }
    },
    {
      "cell_type": "code",
      "execution_count": null,
      "metadata": {
        "id": "Mxz0XyXxuA5E",
        "colab": {
          "base_uri": "https://localhost:8080/"
        },
        "outputId": "08874a4c-26cf-4265-ee6f-4e9865dfde28"
      },
      "outputs": [
        {
          "output_type": "stream",
          "name": "stdout",
          "text": [
            "produit négatif\n"
          ]
        }
      ],
      "source": [
        "def cond_prod(nb1, nb2):\n",
        "  if(nb1<0) and (nb2<0):\n",
        "    print(\"produit positif\")\n",
        "  elif (nb1<0) or (nb2<0):\n",
        "    print(\"produit négatif\")\n",
        "  else:\n",
        "    print(\"produit positif\")\n",
        "\n",
        "cond_prod(-1,1)"
      ]
    },
    {
      "cell_type": "markdown",
      "source": [
        "2.2) Additivité"
      ],
      "metadata": {
        "id": "KSKw795zC_fr"
      }
    },
    {
      "cell_type": "code",
      "source": [
        "def add(nb):\n",
        "  res=0\n",
        "  for i in range(1,nb+1):\n",
        "    res+=i\n",
        "  print(\"Le résultat est\", res)\n",
        "\n",
        "add(6)"
      ],
      "metadata": {
        "colab": {
          "base_uri": "https://localhost:8080/"
        },
        "id": "DpO9gCYbDFB7",
        "outputId": "268e1506-2db0-4b18-de94-6f1c77839062"
      },
      "execution_count": null,
      "outputs": [
        {
          "output_type": "stream",
          "name": "stdout",
          "text": [
            "Le résultat est 21\n"
          ]
        }
      ]
    },
    {
      "cell_type": "markdown",
      "source": [
        "2.3) Somme des éléments d'un tableau"
      ],
      "metadata": {
        "id": "la7xMsLcDyNF"
      }
    },
    {
      "cell_type": "code",
      "source": [
        "def sum(tab):\n",
        "  res=0\n",
        "  for i in tab:\n",
        "    res+=i\n",
        "  print(\"Le résultat est\",res)\n",
        "\n",
        "sum([1,5,7,9,2])\n",
        "\n"
      ],
      "metadata": {
        "colab": {
          "base_uri": "https://localhost:8080/"
        },
        "id": "w9hJTcuKD3n-",
        "outputId": "5595f568-910f-446d-fc6d-78a283c7c2e4"
      },
      "execution_count": null,
      "outputs": [
        {
          "output_type": "stream",
          "name": "stdout",
          "text": [
            "Le résultat est 24\n"
          ]
        }
      ]
    },
    {
      "cell_type": "markdown",
      "source": [
        "2.4) FacProduct"
      ],
      "metadata": {
        "id": "uW8ly8jqELfP"
      }
    },
    {
      "cell_type": "code",
      "source": [
        "def facproduct(tab1, tab2):\n",
        "  res=0\n",
        "  for i in range(len(tab1)):\n",
        "    for j in range(len(tab2)):\n",
        "      res+=(tab1[i] * tab2[j])\n",
        "  print(\"Le resultat est\", res)\n",
        "\n",
        "facproduct([1,2,3,4], [5,6,7,8])"
      ],
      "metadata": {
        "colab": {
          "base_uri": "https://localhost:8080/"
        },
        "id": "VwWsezPkEWm9",
        "outputId": "5ca9c289-32fc-442d-f5a9-d6649e6375f1"
      },
      "execution_count": null,
      "outputs": [
        {
          "output_type": "stream",
          "name": "stdout",
          "text": [
            "Le resultat est 260\n"
          ]
        }
      ]
    },
    {
      "cell_type": "markdown",
      "source": [
        "2.5) Le plus grand"
      ],
      "metadata": {
        "id": "pcTfEsbiFHYY"
      }
    },
    {
      "cell_type": "code",
      "source": [
        "def le_plus_grand(tab):\n",
        "  nb=0\n",
        "  index=0\n",
        "  for i in tab:\n",
        "    if(i>nb):\n",
        "      nb=i\n",
        "      index=tab.index(i)\n",
        "  print(\"Le max est\",nb,\"et a pour position\",index)\n",
        "\n",
        "le_plus_grand([2,6,8,4,5,9])"
      ],
      "metadata": {
        "colab": {
          "base_uri": "https://localhost:8080/"
        },
        "id": "w_zaz5AlFO-s",
        "outputId": "56b62521-ee3f-49e5-8875-de29a9f16516"
      },
      "execution_count": null,
      "outputs": [
        {
          "output_type": "stream",
          "name": "stdout",
          "text": [
            "Le max est 9 et a pour position 5\n"
          ]
        }
      ]
    },
    {
      "cell_type": "markdown",
      "source": [
        "2.6) Plus grand que la moyenne"
      ],
      "metadata": {
        "id": "BLlm49PUG1vO"
      }
    },
    {
      "cell_type": "code",
      "source": [
        "def higher_than_moy(tab):\n",
        "  res=0\n",
        "  moy=0\n",
        "\n",
        "  for i in tab:\n",
        "    moy+=i\n",
        "  moy=moy/len(tab)\n",
        "\n",
        "  for j in tab:\n",
        "    if j>moy:\n",
        "      res+=1\n",
        "  print(\"Moyenne:\",moy,\"et il y a\",res,\"éléments plus grand que la moyenne\")\n",
        "\n",
        "higher_than_moy([19,27,32,45,58])"
      ],
      "metadata": {
        "colab": {
          "base_uri": "https://localhost:8080/"
        },
        "id": "hsHu8Y3LG8KD",
        "outputId": "d37527f5-7e96-473e-c928-5229989c11ed"
      },
      "execution_count": null,
      "outputs": [
        {
          "output_type": "stream",
          "name": "stdout",
          "text": [
            "Moyenne: 36.2 et il y a 2 éléments plus grand que la moyenne\n"
          ]
        }
      ]
    },
    {
      "cell_type": "markdown",
      "source": [
        "2.7) Multplication de vecteurs"
      ],
      "metadata": {
        "id": "4WIY-KxNIdA8"
      }
    },
    {
      "cell_type": "code",
      "source": [
        "def mult_vect(vect1,vect2):\n",
        "  print(\"Vectur 1: [\",vect1[0],\",\",vect1[1],\"], Vecteur 2: [\",vect2[0],\",\",vect2[1],\"], Résultat: \",vect1[0]*vect2[0] + vect1[1]*vect2[1])\n",
        "\n",
        "mult_vect((1,2),(3,4))"
      ],
      "metadata": {
        "colab": {
          "base_uri": "https://localhost:8080/"
        },
        "id": "DHiiAO7GItyW",
        "outputId": "b5f1ba39-a5db-456f-ed1a-342789b7b7a5"
      },
      "execution_count": null,
      "outputs": [
        {
          "output_type": "stream",
          "name": "stdout",
          "text": [
            "Vectur 1: [ 1 , 2 ], Vecteur 2: [ 3 , 4 ], Résultat:  11\n"
          ]
        }
      ]
    },
    {
      "cell_type": "markdown",
      "source": [
        "2.8) Tri de tableau"
      ],
      "metadata": {
        "id": "_klEsqCxJ1aa"
      }
    },
    {
      "cell_type": "code",
      "source": [
        "def recherchePosMin(tab,i):\n",
        "  posMin=i\n",
        "  for j in range(i+1,len(tab)):\n",
        "    if tab[posMin] > tab[j]:\n",
        "      posMin=j\n",
        "  return posMin\n",
        "\n",
        "def invElements(liste,i,j):\n",
        "  tmp = liste[i]\n",
        "  liste[i] = liste[j]\n",
        "  liste[j] = tmp\n",
        "\n",
        "def tabsort(tab):\n",
        "  for i in range(len(tab)):\n",
        "    pos = recherchePosMin(tab,i)\n",
        "    invElements(tab,pos,i)\n",
        "  print(\"Tableau trié:\",tab)\n",
        "\n",
        "tabsort([99,67,198,2,5,77,9,76,333])"
      ],
      "metadata": {
        "colab": {
          "base_uri": "https://localhost:8080/"
        },
        "id": "roeqHO0BJ7-P",
        "outputId": "ecfd4dab-4804-4d14-b0dd-c47a528e402a"
      },
      "execution_count": null,
      "outputs": [
        {
          "output_type": "stream",
          "name": "stdout",
          "text": [
            "Tableau trié: [2, 5, 9, 67, 76, 77, 99, 198, 333]\n"
          ]
        }
      ]
    },
    {
      "cell_type": "markdown",
      "source": [
        "2.9) Factorielle"
      ],
      "metadata": {
        "id": "dlgBKTH6Szqn"
      }
    },
    {
      "cell_type": "code",
      "source": [
        "def factorielle(nb):\n",
        "  res=1\n",
        "  if nb==0:\n",
        "    print(1)\n",
        "  else:\n",
        "    for i in range(1,nb+1):\n",
        "      res*=i\n",
        "  print(\"Factorielle de\",nb,\":\",res)\n",
        "\n",
        "factorielle(6)"
      ],
      "metadata": {
        "colab": {
          "base_uri": "https://localhost:8080/"
        },
        "id": "LA0GCxfqS3Om",
        "outputId": "9065a883-5653-4095-d3c1-8ea47d45d2fe"
      },
      "execution_count": null,
      "outputs": [
        {
          "output_type": "stream",
          "name": "stdout",
          "text": [
            "Factorielle de 6 : 720\n"
          ]
        }
      ]
    },
    {
      "cell_type": "markdown",
      "source": [
        "2.10) Multiplication matricielle"
      ],
      "metadata": {
        "id": "bSo5kgU2TyF1"
      }
    },
    {
      "cell_type": "code",
      "source": [
        "def mult_mat(m1,m2):\n",
        "\n",
        "  ligne=[]\n",
        "  res=[]\n",
        "  row=[]\n",
        "\n",
        "  for i in range(len(m1)):\n",
        "    row=[]\n",
        "    for j in range(len(m2)):\n",
        "      tmp=0\n",
        "      for k in range(len(m2)):\n",
        "        tmp += m1[i][k] * m2[k][j]\n",
        "      row.append(tmp)\n",
        "    res.append(row)\n",
        "      \n",
        "  print(\"La matrice est:\",res)\n",
        "\n",
        "mult_mat([[1,2,2],[1,3,4],[3,4,2]], [[3,4,2],[8,7,3],[2,3,4]])"
      ],
      "metadata": {
        "colab": {
          "base_uri": "https://localhost:8080/"
        },
        "id": "bvxJabTET2UI",
        "outputId": "9762eee9-b052-4d65-ede0-fb760912516b"
      },
      "execution_count": null,
      "outputs": [
        {
          "output_type": "stream",
          "name": "stdout",
          "text": [
            "La matrice est: [[23, 24, 16], [35, 37, 27], [45, 46, 26]]\n"
          ]
        }
      ]
    },
    {
      "cell_type": "markdown",
      "source": [
        "2.11) Suite de Fibonacci"
      ],
      "metadata": {
        "id": "oQCoX7L8--km"
      }
    },
    {
      "cell_type": "code",
      "source": [
        "def fibo(n):\n",
        "  sum=0\n",
        "  nb1, nb2 = 0,1\n",
        "  if n in {0,1}:\n",
        "    print(\"Résultat:\",n)\n",
        "  else:\n",
        "    for i in range(n+1):\n",
        "      print(sum)\n",
        "      nb1 = nb2\n",
        "      nb2 = sum\n",
        "      sum = nb1 + nb2\n",
        "\n",
        "dico={0:0, 1:1}\n",
        "\n",
        "def fibo_rec(n):\n",
        "  if n in dico.keys():\n",
        "    return dico[n]\n",
        "  if n-1 in dico.keys():\n",
        "    print(dico)\n",
        "    dico[n]=dico[n-1]+dico[n-2]\n",
        "    return dico[n]\n",
        "  else:\n",
        "    sum=fibo_rec(n-1)+fibo_rec(n-2)\n",
        "    return sum\n",
        "      \n",
        "fibo_rec(7)"
      ],
      "metadata": {
        "colab": {
          "base_uri": "https://localhost:8080/"
        },
        "id": "3mR-V2Ig_Zti",
        "outputId": "be4a8902-bcbf-42ef-f5d2-9241c60b2ca8"
      },
      "execution_count": null,
      "outputs": [
        {
          "output_type": "stream",
          "name": "stdout",
          "text": [
            "{0: 0, 1: 1}\n",
            "{0: 0, 1: 1, 2: 1}\n",
            "{0: 0, 1: 1, 2: 1, 3: 2}\n",
            "{0: 0, 1: 1, 2: 1, 3: 2, 4: 3}\n"
          ]
        },
        {
          "output_type": "execute_result",
          "data": {
            "text/plain": [
              "13"
            ]
          },
          "metadata": {},
          "execution_count": 9
        }
      ]
    },
    {
      "cell_type": "markdown",
      "source": [
        "2.12) Le temps d'arrêt"
      ],
      "metadata": {
        "id": "iK7U7sW8CXFC"
      }
    },
    {
      "cell_type": "code",
      "source": [
        "def tps_arret(alpha):\n",
        "  sum=0\n",
        "  k=1\n",
        "  while sum <= alpha:\n",
        "    sum+=1/k\n",
        "    k+=1\n",
        "  print(\"Après\",k,\"itérations, on dépasse alpha car:\",sum,\">\",alpha)\n",
        "\n",
        "\n",
        "tps_arret(5.5)"
      ],
      "metadata": {
        "colab": {
          "base_uri": "https://localhost:8080/"
        },
        "id": "yJlEXQMcCZtF",
        "outputId": "9952bb4f-c3de-4baa-87ee-ec1909dc065a"
      },
      "execution_count": null,
      "outputs": [
        {
          "output_type": "stream",
          "name": "stdout",
          "text": [
            "Après 138 itérations, on dépasse alpha car: 5.5008417858445116 > 5.5\n"
          ]
        }
      ]
    },
    {
      "cell_type": "markdown",
      "source": [
        "Maximum des nombre non-adjacents"
      ],
      "metadata": {
        "id": "Hn-agXlujsn_"
      }
    },
    {
      "cell_type": "code",
      "source": [
        "def maxAdj(tab):\n",
        "  if not len(tab):\n",
        "    return 0\n",
        "  else:\n",
        "    tab_tmp=[]\n",
        "    tab_tmp.append(tab[0])\n",
        "    tab_tmp.append(max(tab[0:2]))\n",
        "\n",
        "    for i in range(2,len(tab)):\n",
        "      tab_tmp.append(max(tab_tmp[i-1],tab[i]+tab_tmp[i-2]))\n",
        "    return tab_tmp[-1]\n",
        "\n",
        "maxAdj([7,10,12,7,9,14])"
      ],
      "metadata": {
        "colab": {
          "base_uri": "https://localhost:8080/"
        },
        "id": "AWGT5m-Vatsc",
        "outputId": "207eb596-2e0d-4a70-c7dd-8f51cd31a3fe"
      },
      "execution_count": 7,
      "outputs": [
        {
          "output_type": "execute_result",
          "data": {
            "text/plain": [
              "33"
            ]
          },
          "metadata": {},
          "execution_count": 7
        }
      ]
    },
    {
      "cell_type": "markdown",
      "source": [
        "Distance de Levenshtein"
      ],
      "metadata": {
        "id": "7dPmFolh8Mcz"
      }
    },
    {
      "cell_type": "code",
      "source": [
        "def levenshtein(chaine1, chaine2):\n",
        "  if min(len(chaine1),len(chaine2))==0:\n",
        "    return max(len(chaine1),len(chaine2))\n",
        "  elif chaine1[0]==chaine2[0]:\n",
        "    return levenshtein(chaine1[1:],chaine2[1:])\n",
        "  else:\n",
        "    return 1+min(levenshtein(chaine1[1:],chaine2), levenshtein(chaine1,chaine2[1:]), levenshtein(chaine1[1:],chaine2[1:]))\n",
        "\n",
        "\n",
        "def levenshtein_tab(ch1,ch2):\n",
        "  matrice=[ [str(0) for i in range(len(ch1)+2)] for j in range(len(ch2)+2) ]\n",
        "  matrice[0][1]=matrice[1][0]=matrice[0][0]=\"-\"\n",
        "  cout=[ [0 for i in range(len(ch1))] for j in range(len(ch2))]\n",
        "\n",
        "  for i in range(len(ch1)):\n",
        "    matrice[0][i+2]=ch1[i]\n",
        "    matrice[1][i+2]=str(i+1)\n",
        "  for j in range(len(ch2)):\n",
        "    matrice[j+2][0]=ch2[j]\n",
        "    matrice[j+2][1]=str(j+1)\n",
        "\n",
        " \n",
        "  \n",
        "  for i in range(len(ch1)):\n",
        "    for j in range(len(ch2)):\n",
        "      if(ch1[i]!=ch2[j]):\n",
        "        cout[j][i]=1\n",
        " \n",
        "  for i in range(2,len(ch1)+2):\n",
        "    for j in range(2,len(ch2)+2):      \n",
        "      matrice[j][i]= str(min(int(matrice[j][i-1]) + 1,int(matrice[j-1][i])+1,int(matrice[j-1][i-1])+ cout[j-2][i-2]))\n",
        "  \n",
        "  for i in matrice:\n",
        "    print(i)\n",
        "\n",
        "  print('\\n\\n')\n",
        "\n",
        "levenshtein_tab(\"macon\",\"maison\")"
      ],
      "metadata": {
        "colab": {
          "base_uri": "https://localhost:8080/"
        },
        "id": "RIiEdW0F8QcG",
        "outputId": "1df04194-3afd-40b4-91dd-e9fe70a666c1"
      },
      "execution_count": 117,
      "outputs": [
        {
          "output_type": "stream",
          "name": "stdout",
          "text": [
            "['-', '-', 'm', 'a', 'c', 'o', 'n']\n",
            "['-', '0', '1', '2', '3', '4', '5']\n",
            "['m', '1', '0', '1', '2', '3', '4']\n",
            "['a', '2', '1', '0', '1', '2', '3']\n",
            "['i', '3', '2', '1', '1', '2', '3']\n",
            "['s', '4', '3', '2', '2', '2', '3']\n",
            "['o', '5', '4', '3', '3', '2', '3']\n",
            "['n', '6', '5', '4', '4', '3', '2']\n",
            "\n",
            "\n",
            "\n"
          ]
        }
      ]
    },
    {
      "cell_type": "markdown",
      "source": [],
      "metadata": {
        "id": "64hXK5wzLtSI"
      }
    }
  ]
}