{
  "nbformat": 4,
  "nbformat_minor": 0,
  "metadata": {
    "colab": {
      "provenance": [],
      "authorship_tag": "ABX9TyO6ZYxgMDUk0aS8Pn7OPbuU",
      "include_colab_link": true
    },
    "kernelspec": {
      "name": "python3",
      "display_name": "Python 3"
    },
    "language_info": {
      "name": "python"
    }
  },
  "cells": [
    {
      "cell_type": "markdown",
      "metadata": {
        "id": "view-in-github",
        "colab_type": "text"
      },
      "source": [
        "<a href=\"https://colab.research.google.com/github/WinnMBG/H3PythonBases/blob/main/Untitled0.ipynb\" target=\"_parent\"><img src=\"https://colab.research.google.com/assets/colab-badge.svg\" alt=\"Open In Colab\"/></a>"
      ]
    },
    {
      "cell_type": "markdown",
      "source": [
        "Exrecices d'algorithmie avec Python."
      ],
      "metadata": {
        "id": "Gm7b_GTT4DX4"
      }
    },
    {
      "cell_type": "markdown",
      "source": [
        "1) La compléxité algorithmique sert à mesurer la performance (en espace et en temps) d'un algorithme pour une entrée n donnée."
      ],
      "metadata": {
        "id": "84kEkJT6BkQO"
      }
    },
    {
      "cell_type": "markdown",
      "source": [
        "2.1) Condition et produit "
      ],
      "metadata": {
        "id": "Vs6E_3ZHB8CR"
      }
    },
    {
      "cell_type": "code",
      "execution_count": 5,
      "metadata": {
        "id": "Mxz0XyXxuA5E",
        "colab": {
          "base_uri": "https://localhost:8080/"
        },
        "outputId": "08874a4c-26cf-4265-ee6f-4e9865dfde28"
      },
      "outputs": [
        {
          "output_type": "stream",
          "name": "stdout",
          "text": [
            "produit négatif\n"
          ]
        }
      ],
      "source": [
        "def cond_prod(nb1, nb2):\n",
        "  if(nb1<0) and (nb2<0):\n",
        "    print(\"produit positif\")\n",
        "  elif (nb1<0) or (nb2<0):\n",
        "    print(\"produit négatif\")\n",
        "  else:\n",
        "    print(\"produit positif\")\n",
        "\n",
        "cond_prod(-1,1)"
      ]
    },
    {
      "cell_type": "markdown",
      "source": [
        "2.2) Additivité"
      ],
      "metadata": {
        "id": "KSKw795zC_fr"
      }
    },
    {
      "cell_type": "code",
      "source": [
        "def add(nb):\n",
        "  res=0\n",
        "  for i in range(1,nb+1):\n",
        "    res+=i\n",
        "  print(\"Le résultat est\", res)\n",
        "\n",
        "add(6)"
      ],
      "metadata": {
        "colab": {
          "base_uri": "https://localhost:8080/"
        },
        "id": "DpO9gCYbDFB7",
        "outputId": "268e1506-2db0-4b18-de94-6f1c77839062"
      },
      "execution_count": 6,
      "outputs": [
        {
          "output_type": "stream",
          "name": "stdout",
          "text": [
            "Le résultat est 21\n"
          ]
        }
      ]
    },
    {
      "cell_type": "markdown",
      "source": [
        "2.3) Somme des éléments d'un tableau"
      ],
      "metadata": {
        "id": "la7xMsLcDyNF"
      }
    },
    {
      "cell_type": "code",
      "source": [
        "def sum(tab):\n",
        "  res=0\n",
        "  for i in tab:\n",
        "    res+=i\n",
        "  print(\"Le résultat est\",res)\n",
        "\n",
        "sum([1,5,7,9,2])\n",
        "\n"
      ],
      "metadata": {
        "colab": {
          "base_uri": "https://localhost:8080/"
        },
        "id": "w9hJTcuKD3n-",
        "outputId": "5595f568-910f-446d-fc6d-78a283c7c2e4"
      },
      "execution_count": 7,
      "outputs": [
        {
          "output_type": "stream",
          "name": "stdout",
          "text": [
            "Le résultat est 24\n"
          ]
        }
      ]
    },
    {
      "cell_type": "markdown",
      "source": [
        "2.4) FacProduct"
      ],
      "metadata": {
        "id": "uW8ly8jqELfP"
      }
    },
    {
      "cell_type": "code",
      "source": [
        "def facproduct(tab1, tab2):\n",
        "  res=0\n",
        "  for i in range(len(tab1)):\n",
        "    for j in range(len(tab2)):\n",
        "      res+=(tab1[i] * tab2[j])\n",
        "  print(\"Le resultat est\", res)\n",
        "\n",
        "facproduct([1,2,3,4], [5,6,7,8])"
      ],
      "metadata": {
        "colab": {
          "base_uri": "https://localhost:8080/"
        },
        "id": "VwWsezPkEWm9",
        "outputId": "5ca9c289-32fc-442d-f5a9-d6649e6375f1"
      },
      "execution_count": 8,
      "outputs": [
        {
          "output_type": "stream",
          "name": "stdout",
          "text": [
            "Le resultat est 260\n"
          ]
        }
      ]
    },
    {
      "cell_type": "markdown",
      "source": [
        "2.5) Le plus grand"
      ],
      "metadata": {
        "id": "pcTfEsbiFHYY"
      }
    },
    {
      "cell_type": "code",
      "source": [
        "def le_plus_grand(tab):\n",
        "  nb=0\n",
        "  index=0\n",
        "  for i in tab:\n",
        "    if(i>nb):\n",
        "      nb=i\n",
        "      index=tab.index(i)\n",
        "  print(\"Le max est\",nb,\"et a pour position\",index)\n",
        "\n",
        "le_plus_grand([2,6,8,4,5,9])"
      ],
      "metadata": {
        "colab": {
          "base_uri": "https://localhost:8080/"
        },
        "id": "w_zaz5AlFO-s",
        "outputId": "56b62521-ee3f-49e5-8875-de29a9f16516"
      },
      "execution_count": 10,
      "outputs": [
        {
          "output_type": "stream",
          "name": "stdout",
          "text": [
            "Le max est 9 et a pour position 5\n"
          ]
        }
      ]
    },
    {
      "cell_type": "markdown",
      "source": [
        "2.6) Plus grand que la moyenne"
      ],
      "metadata": {
        "id": "BLlm49PUG1vO"
      }
    },
    {
      "cell_type": "code",
      "source": [
        "def higher_than_moy(tab):\n",
        "  res=0\n",
        "  moy=0\n",
        "\n",
        "  for i in tab:\n",
        "    moy+=i\n",
        "  moy=moy/len(tab)\n",
        "\n",
        "  for j in tab:\n",
        "    if j>moy:\n",
        "      res+=1\n",
        "  print(\"Moyenne:\",moy,\"et il y a\",res,\"éléments plus grand que la moyenne\")\n",
        "\n",
        "higher_than_moy([19,27,32,45,58])"
      ],
      "metadata": {
        "colab": {
          "base_uri": "https://localhost:8080/"
        },
        "id": "hsHu8Y3LG8KD",
        "outputId": "d37527f5-7e96-473e-c928-5229989c11ed"
      },
      "execution_count": 12,
      "outputs": [
        {
          "output_type": "stream",
          "name": "stdout",
          "text": [
            "Moyenne: 36.2 et il y a 2 éléments plus grand que la moyenne\n"
          ]
        }
      ]
    },
    {
      "cell_type": "markdown",
      "source": [
        "2.7) Multplication de vecteurs"
      ],
      "metadata": {
        "id": "4WIY-KxNIdA8"
      }
    },
    {
      "cell_type": "code",
      "source": [
        "def mult_vect(vect1,vect2):\n",
        "  print(\"Vectur 1: [\",vect1[0],\",\",vect1[1],\"], Vecteur 2: [\",vect2[0],\",\",vect2[1],\"], Résultat: \",vect1[0]*vect2[0] + vect1[1]*vect2[1])\n",
        "\n",
        "mult_vect((1,2),(3,4))"
      ],
      "metadata": {
        "colab": {
          "base_uri": "https://localhost:8080/"
        },
        "id": "DHiiAO7GItyW",
        "outputId": "b5f1ba39-a5db-456f-ed1a-342789b7b7a5"
      },
      "execution_count": 14,
      "outputs": [
        {
          "output_type": "stream",
          "name": "stdout",
          "text": [
            "Vectur 1: [ 1 , 2 ], Vecteur 2: [ 3 , 4 ], Résultat:  11\n"
          ]
        }
      ]
    },
    {
      "cell_type": "markdown",
      "source": [
        "2.8) Tri de tableau"
      ],
      "metadata": {
        "id": "_klEsqCxJ1aa"
      }
    },
    {
      "cell_type": "code",
      "source": [
        "def recherchePosMin(tab,i):\n",
        "  posMin=i\n",
        "  for j in range(i+1,len(tab)):\n",
        "    if tab[posMin] > tab[j]:\n",
        "      posMin=j\n",
        "  return posMin\n",
        "\n",
        "def invElements(liste,i,j):\n",
        "  tmp = liste[i]\n",
        "  liste[i] = liste[j]\n",
        "  liste[j] = tmp\n",
        "\n",
        "def tabsort(tab):\n",
        "  for i in range(len(tab)):\n",
        "    pos = recherchePosMin(tab,i)\n",
        "    invElements(tab,pos,i)\n",
        "  print(\"Tableau trié:\",tab)\n",
        "\n",
        "tabsort([99,67,198,2,5,77,9,76,333])"
      ],
      "metadata": {
        "colab": {
          "base_uri": "https://localhost:8080/"
        },
        "id": "roeqHO0BJ7-P",
        "outputId": "ecfd4dab-4804-4d14-b0dd-c47a528e402a"
      },
      "execution_count": 19,
      "outputs": [
        {
          "output_type": "stream",
          "name": "stdout",
          "text": [
            "Tableau trié: [2, 5, 9, 67, 76, 77, 99, 198, 333]\n"
          ]
        }
      ]
    },
    {
      "cell_type": "markdown",
      "source": [
        "2.9) Factorielle"
      ],
      "metadata": {
        "id": "dlgBKTH6Szqn"
      }
    },
    {
      "cell_type": "code",
      "source": [
        "def factorielle(nb):\n",
        "  res=1\n",
        "  if nb==0:\n",
        "    print(1)\n",
        "  else:\n",
        "    for i in range(1,nb+1):\n",
        "      res*=i\n",
        "  print(\"Factorielle de\",nb,\":\",res)\n",
        "\n",
        "factorielle(6)"
      ],
      "metadata": {
        "colab": {
          "base_uri": "https://localhost:8080/"
        },
        "id": "LA0GCxfqS3Om",
        "outputId": "9065a883-5653-4095-d3c1-8ea47d45d2fe"
      },
      "execution_count": 21,
      "outputs": [
        {
          "output_type": "stream",
          "name": "stdout",
          "text": [
            "Factorielle de 6 : 720\n"
          ]
        }
      ]
    },
    {
      "cell_type": "markdown",
      "source": [
        "2.10) Multiplication matricielle"
      ],
      "metadata": {
        "id": "bSo5kgU2TyF1"
      }
    },
    {
      "cell_type": "code",
      "source": [
        "def mult_mat(m1,m2):\n",
        "  ligne=[]\n",
        "  res=[]\n",
        "  for id in range(len(m1)):\n",
        "    for ji in range(len(m1)):\n",
        "      ligne.append(0)\n",
        "    res.append(ligne)\n",
        "    ligne.clear()\n",
        "\n",
        "  for i in range(len(m1)):\n",
        "    for j in range(len(m1)):\n",
        "      for k in range(len(m2)):\n",
        "        res[i][j] += m1[i][k] * m2[k][j]\n",
        "\n",
        "  print(res)\n",
        "\n",
        "mult_mat([[1,2],[3,4]], [[3,4],[8,7]])"
      ],
      "metadata": {
        "colab": {
          "base_uri": "https://localhost:8080/",
          "height": 321
        },
        "id": "bvxJabTET2UI",
        "outputId": "6258f438-0488-4659-acac-05fa374c40b1"
      },
      "execution_count": 22,
      "outputs": [
        {
          "output_type": "error",
          "ename": "IndexError",
          "evalue": "ignored",
          "traceback": [
            "\u001b[0;31m---------------------------------------------------------------------------\u001b[0m",
            "\u001b[0;31mIndexError\u001b[0m                                Traceback (most recent call last)",
            "\u001b[0;32m<ipython-input-22-7638fb14f792>\u001b[0m in \u001b[0;36m<module>\u001b[0;34m\u001b[0m\n\u001b[1;32m     15\u001b[0m   \u001b[0mprint\u001b[0m\u001b[0;34m(\u001b[0m\u001b[0mres\u001b[0m\u001b[0;34m)\u001b[0m\u001b[0;34m\u001b[0m\u001b[0;34m\u001b[0m\u001b[0m\n\u001b[1;32m     16\u001b[0m \u001b[0;34m\u001b[0m\u001b[0m\n\u001b[0;32m---> 17\u001b[0;31m \u001b[0mmult_mat\u001b[0m\u001b[0;34m(\u001b[0m\u001b[0;34m[\u001b[0m\u001b[0;34m[\u001b[0m\u001b[0;36m1\u001b[0m\u001b[0;34m,\u001b[0m\u001b[0;36m2\u001b[0m\u001b[0;34m]\u001b[0m\u001b[0;34m,\u001b[0m\u001b[0;34m[\u001b[0m\u001b[0;36m3\u001b[0m\u001b[0;34m,\u001b[0m\u001b[0;36m4\u001b[0m\u001b[0;34m]\u001b[0m\u001b[0;34m]\u001b[0m\u001b[0;34m,\u001b[0m \u001b[0;34m[\u001b[0m\u001b[0;34m[\u001b[0m\u001b[0;36m3\u001b[0m\u001b[0;34m,\u001b[0m\u001b[0;36m4\u001b[0m\u001b[0;34m]\u001b[0m\u001b[0;34m,\u001b[0m\u001b[0;34m[\u001b[0m\u001b[0;36m8\u001b[0m\u001b[0;34m,\u001b[0m\u001b[0;36m7\u001b[0m\u001b[0;34m]\u001b[0m\u001b[0;34m]\u001b[0m\u001b[0;34m)\u001b[0m\u001b[0;34m\u001b[0m\u001b[0;34m\u001b[0m\u001b[0m\n\u001b[0m",
            "\u001b[0;32m<ipython-input-22-7638fb14f792>\u001b[0m in \u001b[0;36mmult_mat\u001b[0;34m(m1, m2)\u001b[0m\n\u001b[1;32m     11\u001b[0m     \u001b[0;32mfor\u001b[0m \u001b[0mj\u001b[0m \u001b[0;32min\u001b[0m \u001b[0mrange\u001b[0m\u001b[0;34m(\u001b[0m\u001b[0mlen\u001b[0m\u001b[0;34m(\u001b[0m\u001b[0mm1\u001b[0m\u001b[0;34m)\u001b[0m\u001b[0;34m)\u001b[0m\u001b[0;34m:\u001b[0m\u001b[0;34m\u001b[0m\u001b[0;34m\u001b[0m\u001b[0m\n\u001b[1;32m     12\u001b[0m       \u001b[0;32mfor\u001b[0m \u001b[0mk\u001b[0m \u001b[0;32min\u001b[0m \u001b[0mrange\u001b[0m\u001b[0;34m(\u001b[0m\u001b[0mlen\u001b[0m\u001b[0;34m(\u001b[0m\u001b[0mm2\u001b[0m\u001b[0;34m)\u001b[0m\u001b[0;34m)\u001b[0m\u001b[0;34m:\u001b[0m\u001b[0;34m\u001b[0m\u001b[0;34m\u001b[0m\u001b[0m\n\u001b[0;32m---> 13\u001b[0;31m         \u001b[0mres\u001b[0m\u001b[0;34m[\u001b[0m\u001b[0mi\u001b[0m\u001b[0;34m]\u001b[0m\u001b[0;34m[\u001b[0m\u001b[0mj\u001b[0m\u001b[0;34m]\u001b[0m \u001b[0;34m+=\u001b[0m \u001b[0mm1\u001b[0m\u001b[0;34m[\u001b[0m\u001b[0mi\u001b[0m\u001b[0;34m]\u001b[0m\u001b[0;34m[\u001b[0m\u001b[0mk\u001b[0m\u001b[0;34m]\u001b[0m \u001b[0;34m*\u001b[0m \u001b[0mm2\u001b[0m\u001b[0;34m[\u001b[0m\u001b[0mk\u001b[0m\u001b[0;34m]\u001b[0m\u001b[0;34m[\u001b[0m\u001b[0mj\u001b[0m\u001b[0;34m]\u001b[0m\u001b[0;34m\u001b[0m\u001b[0;34m\u001b[0m\u001b[0m\n\u001b[0m\u001b[1;32m     14\u001b[0m \u001b[0;34m\u001b[0m\u001b[0m\n\u001b[1;32m     15\u001b[0m   \u001b[0mprint\u001b[0m\u001b[0;34m(\u001b[0m\u001b[0mres\u001b[0m\u001b[0;34m)\u001b[0m\u001b[0;34m\u001b[0m\u001b[0;34m\u001b[0m\u001b[0m\n",
            "\u001b[0;31mIndexError\u001b[0m: list index out of range"
          ]
        }
      ]
    }
  ]
}